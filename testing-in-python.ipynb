{
 "cells": [
  {
   "cell_type": "markdown",
   "metadata": {
    "collapsed": true,
    "slideshow": {
     "slide_type": "slide"
    }
   },
   "source": [
    "# Python Packaging and Unit Testing"
   ]
  },
  {
   "cell_type": "markdown",
   "metadata": {
    "collapsed": true,
    "slideshow": {
     "slide_type": "slide"
    }
   },
   "source": [
    "- We already know the benefits of packaging our code:\n",
    "    - testable\n",
    "    - reusable\n",
    "    - makes future work _easier_\n",
    "- If we are going to make a package, we will be writing _unit tests_ for every function we include"
   ]
  },
  {
   "cell_type": "markdown",
   "metadata": {
    "slideshow": {
     "slide_type": "slide"
    }
   },
   "source": [
    "- The basic directory structure of a python package is something like this:\n",
    "\n",
    "```\n",
    "project\n",
    "|\n",
    "|\n",
    "|__ myPackage\n",
    "|     |\n",
    "|     |__ somePython.py\n",
    "|     |__ __init__.py\n",
    "|\n",
    "|__ tests\n",
    "      |__ test.py\n",
    "```"
   ]
  },
  {
   "cell_type": "markdown",
   "metadata": {
    "slideshow": {
     "slide_type": "slide"
    }
   },
   "source": [
    "- functions and classes will go in the `somePython.py` file\n",
    "- The `__init__.py` file is a special file designating that the files in the directory are part of a package. \n",
    "    - prevents directories with a common name from unintentionally hiding valid modules that occur later (deeper) on the module search path.\n",
    "    - In the simplest case, `__init__.py` can just be an empty file, but it can also execute initialization code for the package\n",
    "- tests for functions will be contained in the `tests` directory, either entirely in one file, or spread across several files which have `test` contained in the name"
   ]
  },
  {
   "cell_type": "markdown",
   "metadata": {
    "slideshow": {
     "slide_type": "slide"
    }
   },
   "source": [
    "## Unit Testing\n",
    "- For every function we write, we feed it inputs and want to make sure it works the way we expect.\n",
    "- When we modify/improve our code, we want to trust the changes we made didn't break any expected behavior.\n",
    "- When we design functions, we also need to write unit tests to check the inputs and outputs of them, which can be tested every time we make changes to our code"
   ]
  },
  {
   "cell_type": "markdown",
   "metadata": {
    "slideshow": {
     "slide_type": "slide"
    }
   },
   "source": [
    "### Components of a unit test\n",
    "- \"unit\" is defined as an isolated test case that consists of the following components:\n",
    "    - \"fixture\" (e.g. function, class method, or data file)\n",
    "    - an action on the fixture (e.g. calling a function with a particular input)\n",
    "    - an expected outcome (the expected return value of the function)\n",
    "    - the actual outcome (the actual return value of the function)\n",
    "    - a verification message (a report whether the return matches the expected or not)"
   ]
  },
  {
   "cell_type": "markdown",
   "metadata": {
    "slideshow": {
     "slide_type": "fragment"
    }
   },
   "source": [
    "There are three popular packages for testing in python:"
   ]
  },
  {
   "cell_type": "markdown",
   "metadata": {
    "slideshow": {
     "slide_type": "fragment"
    }
   },
   "source": [
    "#### `unittest`\n",
    "- part of the Python Standard Library\n",
    "- \"base\" testing framework in python"
   ]
  },
  {
   "cell_type": "markdown",
   "metadata": {
    "slideshow": {
     "slide_type": "fragment"
    }
   },
   "source": [
    "#### `nosetest`\n",
    "- alternative testing framework\n",
    "- crawls a subdirectory tree while looking for `.py` files that start with the naming prefix \"test\".\n",
    "    - those files will be executed by the unit testing framework\n",
    "- slightly faster than `py.test`, only searches subdirectories that start with \"test\""
   ]
  },
  {
   "cell_type": "markdown",
   "metadata": {
    "slideshow": {
     "slide_type": "fragment"
    }
   },
   "source": [
    "#### `py.test`\n",
    "- stands out due to its ease of use, simpler syntax\n",
    "     - `assert` instead of numerous `assertSomething` commands in `unittest`\n",
    "- similar to nosetest, executes `.py` files named in the form `test_*.py` or `*_test.py` in the current directory and its subdirectories\n",
    "- to install: \n",
    "```\n",
    "pip install pytest\n",
    "```\n",
    "- In these exercises, I'll be using the `pytest` package to test functions"
   ]
  },
  {
   "cell_type": "markdown",
   "metadata": {
    "slideshow": {
     "slide_type": "slide"
    }
   },
   "source": [
    "### Basic pytest usage\n",
    "- Let's create a file called `test_capitalize.py` and inside it write a function called `capital_case`, which should take a string as its argument, and return a capitalized version of the string.\n",
    "- We will also write a test, `test_capital_case` to make sure the function returns what we expect.\n",
    "    - we prefix our test function names with `test_`, since this is what pytest expects our test functions to be named."
   ]
  },
  {
   "cell_type": "code",
   "execution_count": 8,
   "metadata": {
    "collapsed": true,
    "slideshow": {
     "slide_type": "slide"
    }
   },
   "outputs": [],
   "source": [
    "# test_capitalize.py\n",
    "\n",
    "def capital_case(x):\n",
    "    return x.capitalize()\n",
    "\n",
    "def test_capital_case():\n",
    "    assert capital_case('semaphore') == 'Semaphore'"
   ]
  },
  {
   "cell_type": "markdown",
   "metadata": {
    "slideshow": {
     "slide_type": "subslide"
    }
   },
   "source": [
    "- pytest uses a plain `assert` statement, which is clear and easier to remember compared to the number of `assertSomething` functions found in `unittest`."
   ]
  },
  {
   "cell_type": "markdown",
   "metadata": {
    "slideshow": {
     "slide_type": "subslide"
    }
   },
   "source": [
    "- we can then run the `pytest` command in the directory containing this file to execute the test.\n",
    "- this test should pass, but we have not tested _everything_\n",
    "    - what if a number is passed in as the argument?\n",
    "        - We can add the `pytest.raises` helper, which asserts that our function should raise a `TypeError` in case the argument passed is not a string"
   ]
  },
  {
   "cell_type": "code",
   "execution_count": 12,
   "metadata": {
    "collapsed": true,
    "slideshow": {
     "slide_type": "slide"
    }
   },
   "outputs": [],
   "source": [
    "# test_capitalize.py\n",
    "\n",
    "import pytest\n",
    "\n",
    "def test_capital_case():\n",
    "    assert capital_case('semaphore') == 'Semaphore'\n",
    "\n",
    "def test_raises_exception_on_non_string_arguments():\n",
    "    with pytest.raises(TypeError):\n",
    "        capital_case(9)"
   ]
  },
  {
   "cell_type": "markdown",
   "metadata": {
    "slideshow": {
     "slide_type": "subslide"
    }
   },
   "source": [
    "- Running the tests would now fail:\n",
    "```\n",
    "def capital_case(x):\n",
    ">       return x.capitalize()\n",
    "E       AttributeError: 'int' object has no attribute 'capitalize'\n",
    "```"
   ]
  },
  {
   "cell_type": "markdown",
   "metadata": {
    "slideshow": {
     "slide_type": "slide"
    }
   },
   "source": [
    "## Example: Creating a python package using more advanced pytest features\n",
    "\n",
    "- Let's run through an example of creating a package and using `py.test` to test its functions:\n",
    "   - This package will do some basic arithmetic using `wallet` that simulates users adding or spending money in their wallet.  It will be modeled as a class with two methods: `spend_cash` and `add_cash`."
   ]
  },
  {
   "cell_type": "markdown",
   "metadata": {
    "slideshow": {
     "slide_type": "slide"
    }
   },
   "source": [
    "- The first thing we want to do is set up the the directory structure.  It should look like this:\n",
    "\n",
    "```\n",
    "pywallet-example\n",
    "|\n",
    "|\n",
    "|__ pywallet\n",
    "|     |\n",
    "|     |__ wallet.py\n",
    "|     |__ __init__.py\n",
    "|\n",
    "|__ tests\n",
    "|      |__ test_wallet.py\n",
    "|\n",
    "|__ setup.py\n",
    "\n",
    "```\n",
    "\n",
    "- Note we have added a `setup.py` file in the top level of the repo.  This contains details on the package, more detail on this later."
   ]
  },
  {
   "cell_type": "markdown",
   "metadata": {
    "slideshow": {
     "slide_type": "fragment"
    }
   },
   "source": [
    "- Now add some functions to a `wallet.py` file.  Here we group the `spend_cash` and `add_cash` functions in the `Wallet` class."
   ]
  },
  {
   "cell_type": "code",
   "execution_count": 13,
   "metadata": {
    "collapsed": true,
    "slideshow": {
     "slide_type": "subslide"
    }
   },
   "outputs": [],
   "source": [
    "# wallet.py\n",
    "\n",
    "class InsufficientAmount(Exception):\n",
    "    pass\n",
    "\n",
    "\n",
    "class Wallet(object):\n",
    "\n",
    "    def __init__(self, initial_amount=0):\n",
    "        self.balance = initial_amount\n",
    "\n",
    "    def spend_cash(self, amount):\n",
    "        if self.balance < amount:\n",
    "            raise InsufficientAmount('Not enough available to spend {}'.format(amount))\n",
    "        self.balance -= amount\n",
    "\n",
    "    def add_cash(self, amount):\n",
    "        self.balance += amount"
   ]
  },
  {
   "cell_type": "markdown",
   "metadata": {
    "slideshow": {
     "slide_type": "slide"
    }
   },
   "source": [
    "- We can then add a custom exception, `InsufficientAmount`, which will be raised when we try to spend more money than we have in the wallet.\n",
    "- The initial amount in the wallet defaults to 0, which is also set as the balance\n",
    "- The `spend_cash` method checks if there is a sufficient balance, and if there isn't it raises the exception\n",
    "- the `add_cash` method simply adds the amount to the current wallet balance"
   ]
  },
  {
   "cell_type": "markdown",
   "metadata": {
    "slideshow": {
     "slide_type": "slide"
    }
   },
   "source": [
    "Now it is time to come up with some tests to make sure our functions are performing the way we want to.  We put these tests in `test_wallet.py`:"
   ]
  },
  {
   "cell_type": "code",
   "execution_count": 16,
   "metadata": {
    "slideshow": {
     "slide_type": "slide"
    }
   },
   "outputs": [],
   "source": [
    "# test_wallet.py\n",
    "\n",
    "import pytest\n",
    "from wallet import Wallet, InsufficientAmount\n",
    "\n",
    "\n",
    "def test_default_initial_amount():\n",
    "    wallet = Wallet()\n",
    "    assert wallet.balance == 0\n",
    "\n",
    "def test_setting_initial_amount():\n",
    "    wallet = Wallet(100)\n",
    "    assert wallet.balance == 100\n",
    "\n",
    "def test_wallet_add_cash():\n",
    "    wallet = Wallet(10)\n",
    "    wallet.add_cash(90)\n",
    "    assert wallet.balance == 100\n",
    "\n",
    "def test_wallet_spend_cash():\n",
    "    wallet = Wallet(20)\n",
    "    wallet.spend_cash(10)\n",
    "    assert wallet.balance == 10\n",
    "\n",
    "def test_wallet_spend_cash_raises_exception_on_insufficient_amount():\n",
    "    wallet = Wallet()\n",
    "    with pytest.raises(InsufficientAmount):\n",
    "        wallet.spend_cash(100)"
   ]
  },
  {
   "cell_type": "markdown",
   "metadata": {
    "slideshow": {
     "slide_type": "slide"
    }
   },
   "source": [
    "### Pytest Fixtures\n",
    "- At this point, all of these tests should be passing when we run `pytest`\n",
    "- There is a lot of repetition in these tests though, so let's refactor them using fixtures\n",
    "    - these are created using the `@pytest.fixture` decorator\n",
    "    - test functions that require fixtures should accept them as arguments"
   ]
  },
  {
   "cell_type": "markdown",
   "metadata": {
    "slideshow": {
     "slide_type": "subslide"
    }
   },
   "source": [
    "- We can create a fixture for an `empty_wallet` and a `wallet` with a balance of 20.  Add docstrings to describe what each one is:"
   ]
  },
  {
   "cell_type": "code",
   "execution_count": null,
   "metadata": {
    "collapsed": true,
    "slideshow": {
     "slide_type": "subslide"
    }
   },
   "outputs": [],
   "source": [
    "# test_wallet.py\n",
    "\n",
    "import pytest\n",
    "from wallet import Wallet, InsufficientAmount\n",
    "\n",
    "@pytest.fixture\n",
    "def empty_wallet():\n",
    "    '''Returns a Wallet instance with a zero balance'''\n",
    "    return Wallet()\n",
    "\n",
    "@pytest.fixture\n",
    "def wallet():\n",
    "    '''Returns a Wallet instance with a balance of 20'''\n",
    "    return Wallet(20)\n",
    "\n",
    "def test_default_initial_amount(empty_wallet):\n",
    "    assert empty_wallet.balance == 0\n",
    "\n",
    "def test_setting_initial_amount(wallet):\n",
    "    assert wallet.balance == 20\n",
    "\n",
    "def test_wallet_add_cash(wallet):\n",
    "    wallet.add_cash(80)\n",
    "    assert wallet.balance == 100\n",
    "\n",
    "def test_wallet_spend_cash(wallet):\n",
    "    wallet.spend_cash(10)\n",
    "    assert wallet.balance == 10\n",
    "\n",
    "def test_wallet_spend_cash_raises_exception_on_insufficient_amount(empty_wallet):\n",
    "    with pytest.raises(InsufficientAmount):\n",
    "        empty_wallet.spend_cash(100)"
   ]
  },
  {
   "cell_type": "markdown",
   "metadata": {
    "slideshow": {
     "slide_type": "subslide"
    }
   },
   "source": [
    "- Utilizing fixtures helps us follow the DRY principles"
   ]
  },
  {
   "cell_type": "markdown",
   "metadata": {
    "slideshow": {
     "slide_type": "slide"
    }
   },
   "source": [
    "### Parametrized Test Functions\n",
    "- The above tests were all individual.  The next step is to test various combinations\n",
    "    - e.g. If the initial balance is 30, and I spend 20, then add 100, how much should my balance be?"
   ]
  },
  {
   "cell_type": "markdown",
   "metadata": {
    "slideshow": {
     "slide_type": "slide"
    }
   },
   "source": [
    "- Pytests provides parametrized test functions, using the `@pytest.mark.parametrize` decorator:"
   ]
  },
  {
   "cell_type": "code",
   "execution_count": 20,
   "metadata": {
    "collapsed": true,
    "slideshow": {
     "slide_type": "fragment"
    }
   },
   "outputs": [],
   "source": [
    "# test_wallet.py\n",
    "\n",
    "@pytest.fixture\n",
    "def my_wallet():\n",
    "    '''Returns a Wallet instance with a zero balance'''\n",
    "    return Wallet()\n",
    "\n",
    "@pytest.mark.parametrize(\"earned,spent,expected\", [\n",
    "    (30, 10, 20),\n",
    "    (20, 2, 18),\n",
    "])\n",
    "def test_transactions(my_wallet, earned, spent, expected):\n",
    "    my_wallet.add_cash(earned)\n",
    "    my_wallet.spend_cash(spent)\n",
    "    assert my_wallet.balance == expected"
   ]
  },
  {
   "cell_type": "markdown",
   "metadata": {
    "slideshow": {
     "slide_type": "fragment"
    }
   },
   "source": [
    "- The test function marked with the decorator is run once for each set of parameters\n",
    "    - The test will run the first time with the `earned` = 30, `spent` = 10, and `expected` = 20"
   ]
  },
  {
   "cell_type": "markdown",
   "metadata": {
    "slideshow": {
     "slide_type": "slide"
    }
   },
   "source": [
    "## Bundling everything together into a package\n",
    "- The goal is to be able to share the package and its functions with others.  We can do this by hosting it on GitHub/GitLab\n",
    "    - This example will be hosted on GitLab\n",
    "        - We'll want to add a `README.md` to describe the package and how to install it\n",
    "        - We'll also want to set this up with CI to automatically run our tests when new code is pushed"
   ]
  },
  {
   "cell_type": "markdown",
   "metadata": {
    "slideshow": {
     "slide_type": "slide"
    }
   },
   "source": [
    "- This will be the directory structure:\n",
    "\n",
    "```\n",
    "pywallet-example\n",
    "|\n",
    "|\n",
    "|__ pywallet\n",
    "|     |\n",
    "|     |__ wallet.py\n",
    "|     |__ __init__.py\n",
    "|\n",
    "|__ tests\n",
    "|      |__ test_wallet.py\n",
    "|\n",
    "|__ setup.py\n",
    "|\n",
    "|__ README.md\n",
    "|\n",
    "|__ .gitlab-ci.yml\n",
    "\n",
    "```"
   ]
  },
  {
   "cell_type": "markdown",
   "metadata": {
    "slideshow": {
     "slide_type": "fragment"
    }
   },
   "source": [
    "- The `__init__.py` is just an empty file to indicate that the functions in `pywallet` are in a package."
   ]
  },
  {
   "cell_type": "markdown",
   "metadata": {
    "slideshow": {
     "slide_type": "slide"
    }
   },
   "source": [
    "### Describing the package\n",
    "- The package is described in the `setup.py` file, for this example, mine looks like this:\n",
    "\n",
    "```\n",
    "from setuptools import setup, find_packages\n",
    "\n",
    "setup(\n",
    "    name='pywallet-example',\n",
    "    version='0.1',\n",
    "    packages=find_packages(exclude=['tests*']),\n",
    "    license='none',\n",
    "    description='An example python package using wallet that simulates users adding or spending money',\n",
    "    long_description=open('README.md').read(),\n",
    "    install_requires=[],\n",
    "    url='https://gitlab.com/scheidec/pywallet-example',\n",
    "    author='Caleb Scheidel',\n",
    "    author_email='caleb@methodsconsultants.com'\n",
    ")\n",
    "```"
   ]
  },
  {
   "cell_type": "markdown",
   "metadata": {
    "slideshow": {
     "slide_type": "slide"
    }
   },
   "source": [
    "### Setting up CI\n",
    "- The `.gitlab-ci.yml` file will orchestrate the tests to run each time new code is pushed to GitLab.\n",
    "\n",
    "- For this example, mine looks like this:\n",
    "\n",
    "```    \n",
    "image: python:latest\n",
    "\n",
    "test:\n",
    "  stage: test\n",
    "  script: \n",
    "  - pip install pytest\n",
    "  - python -m pytest -v\n",
    "```\n",
    "\n",
    "- See the full example here: https://gitlab.com/scheidec/pywallet-example"
   ]
  },
  {
   "cell_type": "markdown",
   "metadata": {
    "slideshow": {
     "slide_type": "slide"
    }
   },
   "source": [
    "### Adding Extra/Test Data\n",
    "- Some packages may need to contain some data to use for tests\n",
    "- If you need to include some data files, you will also need to write a `MANIFEST.in` file at the top level of the project, and put the data files in a `data` directory under the package directory.\n"
   ]
  },
  {
   "cell_type": "markdown",
   "metadata": {
    "slideshow": {
     "slide_type": "slide"
    }
   },
   "source": [
    "- The structure should look something like this:\n",
    "\n",
    "```\n",
    "pywallet-example\n",
    "|\n",
    "|\n",
    "|__ pywallet\n",
    "|     |\n",
    "|     |__ data\n",
    "|     |     |\n",
    "|     |     |__ test_data.csv\n",
    "|     |\n",
    "|     |__ wallet.py\n",
    "|     |__ __init__.py\n",
    "|\n",
    "|__ tests\n",
    "|     |__ test_wallet.py\n",
    "|\n",
    "|__ setup.py\n",
    "|\n",
    "|__ MANIFEST.in\n",
    "|\n",
    "|__ README.md\n",
    "```"
   ]
  },
  {
   "cell_type": "markdown",
   "metadata": {
    "slideshow": {
     "slide_type": "fragment"
    }
   },
   "source": [
    "- For each data file, include a line in `MANIFEST.in` that gives the path to the file you want to include:\n",
    "    \n",
    "```\n",
    "include pywallet/data/test_data.csv\n",
    "```\n",
    "- All of the files listed like the above in `MANIFEST.in` will be included with the package when others install it."
   ]
  }
 ],
 "metadata": {
  "celltoolbar": "Slideshow",
  "kernelspec": {
   "display_name": "Python 3",
   "language": "python",
   "name": "python3"
  },
  "language_info": {
   "codemirror_mode": {
    "name": "ipython",
    "version": 3
   },
   "file_extension": ".py",
   "mimetype": "text/x-python",
   "name": "python",
   "nbconvert_exporter": "python",
   "pygments_lexer": "ipython3",
   "version": "3.5.4"
  }
 },
 "nbformat": 4,
 "nbformat_minor": 2
}
